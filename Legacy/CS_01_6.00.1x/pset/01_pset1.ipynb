{
 "cells": [
  {
   "cell_type": "code",
   "execution_count": 1,
   "metadata": {
    "collapsed": false
   },
   "outputs": [
    {
     "name": "stdout",
     "output_type": "stream",
     "text": [
      "Number of vowels: 5\n"
     ]
    }
   ],
   "source": [
    "# https://courses.edx.org/courses/course-v1:MITx+6.00.1x_8+1T2016/courseware/Week_2/Basic_Problem_Set_1/\n",
    "s = 'azcbobobegghakl'\n",
    "\n",
    "vowels_list = ['a', 'e', 'i', 'o', 'u']\n",
    "\n",
    "counter = 0\n",
    "\n",
    "for char in s:\n",
    "    if char in vowels_list:\n",
    "        counter += 1\n",
    "print \"Number of vowels:\", counter"
   ]
  },
  {
   "cell_type": "code",
   "execution_count": 11,
   "metadata": {
    "collapsed": false
   },
   "outputs": [
    {
     "name": "stdout",
     "output_type": "stream",
     "text": [
      "Number of times bob occurs is: 3\n"
     ]
    }
   ],
   "source": [
    "# https://courses.edx.org/courses/course-v1:MITx+6.00.1x_8+1T2016/courseware/Week_2/Basic_Problem_Set_1/\n",
    "s = 'azcbobobobegghakl'\n",
    "counter = 0\n",
    "TARGET_WORD = 'bob'\n",
    "while True:\n",
    "    index = s.find(TARGET_WORD)\n",
    "    if index == -1:\n",
    "        break\n",
    "    else:\n",
    "        counter += 1\n",
    "        s = s[index + 1:]\n",
    "print 'Number of times bob occurs is:', counter"
   ]
  },
  {
   "cell_type": "code",
   "execution_count": 31,
   "metadata": {
    "collapsed": false
   },
   "outputs": [
    {
     "data": {
      "text/plain": [
       "'salad: 2 hamburger: 2 water: 1'"
      ]
     },
     "execution_count": 31,
     "metadata": {},
     "output_type": "execute_result"
    }
   ],
   "source": [
    "# https://courses.edx.org/courses/course-v1:MITx+6.00.1x_8+1T2016/courseware/Week_2/Basic_Problem_Set_1/\n",
    "def find_keyword(keyword, target_string):\n",
    "    s = target_string\n",
    "    TARGET_WORD = keyword\n",
    "    counter = 0\n",
    "    while True:\n",
    "        index = s.find(TARGET_WORD)\n",
    "        if index == -1:\n",
    "            break\n",
    "        else:\n",
    "            counter += 1\n",
    "            s = s[index + 1:]\n",
    "    return counter\n",
    "\n",
    "def item_order(order):\n",
    "    \"\"\"counts the order\n",
    "    \n",
    "    args:\n",
    "        order (str): string named order\n",
    "       \n",
    "    return:\n",
    "        number a string counts the number of each item, sample output\n",
    "        \"salad:[# salad] hamburger:[# hambruger] water:[# water]\"\n",
    "    \"\"\"\n",
    "    target_key_words = ['salad', 'water', 'hamburger']\n",
    "    \n",
    "    output = {\n",
    "        target_key_words[0]: find_keyword(target_key_words[0], order),\n",
    "        target_key_words[1]: find_keyword(target_key_words[1], order),\n",
    "        target_key_words[2]: find_keyword(target_key_words[2], order)\n",
    "    }\n",
    "    return \"{0}:{1} {2}:{3} {4}:{5}\".format(target_key_words[0],\n",
    "                                               output[target_key_words[0]],\n",
    "                                               target_key_words[2],\n",
    "                                               output[target_key_words[2]],\n",
    "                                               target_key_words[1],\n",
    "                                               output[target_key_words[1]])\n",
    "\n",
    "item_order(\"salad water hamburger salad hamburger\")"
   ]
  },
  {
   "cell_type": "code",
   "execution_count": 32,
   "metadata": {
    "collapsed": false
   },
   "outputs": [
    {
     "data": {
      "text/plain": [
       "'salad: 2 hamburger: 2 water: 1'"
      ]
     },
     "execution_count": 32,
     "metadata": {},
     "output_type": "execute_result"
    }
   ],
   "source": [
    "# 'a b c'.split(' ') -> ['a', 'b', 'c']\n",
    "\n",
    "def item_order(order):\n",
    "    \"\"\"counts the orders\n",
    "    \n",
    "    args:\n",
    "        order (str): string named order\n",
    "        \n",
    "    return: number of string ocunts the each item\n",
    "    \"\"\"\n",
    "    \n",
    "    counter_salad = 0\n",
    "    counter_water = 0\n",
    "    counter_hamburger = 0\n",
    "    \n",
    "    keyword_list = ['salad', 'water', 'hamburger']\n",
    "    order = order.split(' ')\n",
    "\n",
    "    for index in range(len(order)):\n",
    "        keyword = order[index]\n",
    "        if keyword == keyword_list[0]:\n",
    "            counter_salad += 1\n",
    "        elif keyword == keyword_list[1]:\n",
    "            counter_water += 1\n",
    "        elif keyword == keyword_list[2]:\n",
    "            counter_hamburger += 1\n",
    "    return \"{0}:{1} {2}:{3} {4}:{5}\".format(keyword_list[0],\n",
    "                                               counter_salad,\n",
    "                                               keyword_list[2],\n",
    "                                               counter_hamburger,\n",
    "                                               keyword_list[1],\n",
    "                                               counter_water)\n",
    "    \n",
    "item_order(\"salad water hamburger salad hamburger\")"
   ]
  },
  {
   "cell_type": "code",
   "execution_count": null,
   "metadata": {
    "collapsed": true
   },
   "outputs": [],
   "source": []
  }
 ],
 "metadata": {
  "kernelspec": {
   "display_name": "Python 2",
   "language": "python",
   "name": "python2"
  },
  "language_info": {
   "codemirror_mode": {
    "name": "ipython",
    "version": 2
   },
   "file_extension": ".py",
   "mimetype": "text/x-python",
   "name": "python",
   "nbconvert_exporter": "python",
   "pygments_lexer": "ipython2",
   "version": "2.7.6"
  }
 },
 "nbformat": 4,
 "nbformat_minor": 0
}
