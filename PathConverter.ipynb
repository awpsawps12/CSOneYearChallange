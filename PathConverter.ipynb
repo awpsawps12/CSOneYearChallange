{
 "cells": [
  {
   "cell_type": "code",
   "execution_count": 23,
   "metadata": {
    "collapsed": false
   },
   "outputs": [],
   "source": [
    "# Get list of targed files from target directory\n",
    "import os\n",
    "import re\n",
    "\n",
    "def GetAllFilesWithExtension(extension_str, path=\".\"):\n",
    "    \"\"\"Get all file with extension\n",
    "    extension string should be start with a `.`\"\"\"\n",
    "    file_list = []\n",
    "    \n",
    "    for filename in os.listdir(path):\n",
    "        root, ext = os.path.splitext(filename)\n",
    "        if ext == extension_str:\n",
    "            file_list.append(filename)\n",
    "    \n",
    "    return file_list\n",
    "\n",
    "file_list = GetAllFilesWithExtension(\".md\")"
   ]
  },
  {
   "cell_type": "code",
   "execution_count": 42,
   "metadata": {
    "collapsed": false
   },
   "outputs": [],
   "source": [
    "# Print content of target files inside\n",
    "\n",
    "from tempfile import mkstemp\n",
    "from shutil import move\n",
    "from os import remove, close\n",
    "\n",
    "def ReplacePatternInFile(file_path, pattern, subst):\n",
    "    \"\"\"Replace all pattern by subst inside a file\n",
    "    pattern is an regular express pattern\"\"\"\n",
    "    # create temp file\n",
    "    fh, abs_path = mkstemp()\n",
    "    \n",
    "    with open(abs_path, \"w\") as new_file:\n",
    "        with open(file_path) as old_file:\n",
    "            for line in old_file:\n",
    "                new_file.write(re.sub(pattern, subst, line))\n",
    "                \n",
    "    close(fh)\n",
    "    # remove original file\n",
    "    remove(file_path)\n",
    "    # move new file\n",
    "    move(abs_path, file_path)\n",
    "    \n",
    "ReplacePatternInFile(target_file_path, \"Simple\", \"Sample\")\n",
    "\n",
    "def ReplaceImagePathToAbs(file_path):\n",
    "    ReplacePatternInFile(file_path, \"^\\!\\[\\]\\(\\.\\.\", \"![](\")\n",
    "    \n",
    "for file in GetAllFilesWithExtension(\".md\"):\n",
    "    ReplaceImagePathToAbs(file)"
   ]
  },
  {
   "cell_type": "code",
   "execution_count": null,
   "metadata": {
    "collapsed": false
   },
   "outputs": [],
   "source": []
  },
  {
   "cell_type": "code",
   "execution_count": null,
   "metadata": {
    "collapsed": true
   },
   "outputs": [],
   "source": []
  }
 ],
 "metadata": {
  "kernelspec": {
   "display_name": "Python 2",
   "language": "python",
   "name": "python2"
  },
  "language_info": {
   "codemirror_mode": {
    "name": "ipython",
    "version": 2
   },
   "file_extension": ".py",
   "mimetype": "text/x-python",
   "name": "python",
   "nbconvert_exporter": "python",
   "pygments_lexer": "ipython2",
   "version": "2.7.11"
  }
 },
 "nbformat": 4,
 "nbformat_minor": 0
}
