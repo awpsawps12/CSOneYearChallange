{
 "cells": [
  {
   "cell_type": "code",
   "execution_count": 1,
   "metadata": {
    "collapsed": false
   },
   "outputs": [
    {
     "name": "stdout",
     "output_type": "stream",
     "text": [
      "Hello, world!\n"
     ]
    }
   ],
   "source": [
    "print \"Hello, world!\""
   ]
  },
  {
   "cell_type": "code",
   "execution_count": 52,
   "metadata": {
    "collapsed": false
   },
   "outputs": [
    {
     "name": "stdout",
     "output_type": "stream",
     "text": [
      "Enter a number12\n"
     ]
    }
   ],
   "source": [
    "num = raw_input(\"Enter a number\")"
   ]
  },
  {
   "cell_type": "code",
   "execution_count": 57,
   "metadata": {
    "collapsed": false
   },
   "outputs": [
    {
     "data": {
      "text/plain": [
       "'12'"
      ]
     },
     "execution_count": 57,
     "metadata": {},
     "output_type": "execute_result"
    }
   ],
   "source": [
    "num # num in string"
   ]
  },
  {
   "cell_type": "code",
   "execution_count": 54,
   "metadata": {
    "collapsed": false
   },
   "outputs": [
    {
     "data": {
      "text/plain": [
       "12"
      ]
     },
     "execution_count": 54,
     "metadata": {},
     "output_type": "execute_result"
    }
   ],
   "source": [
    "int(num) # conversion"
   ]
  },
  {
   "cell_type": "code",
   "execution_count": 83,
   "metadata": {
    "collapsed": false
   },
   "outputs": [
    {
     "data": {
      "text/plain": [
       "38"
      ]
     },
     "execution_count": 83,
     "metadata": {},
     "output_type": "execute_result"
    }
   ],
   "source": [
    "# Total effort need to complete all require courses\n",
    "# https://github.com/open-source-society/computer-science\n",
    "LEARNING_TIME = [[9,15],[6,10],[9,5],\n",
    "                 [5,12],[5,12],[5,12],\n",
    "                 [12,5],[6,12],[6,12],\n",
    "                 [7,7],[6,6],[4,6],\n",
    "                 [8,6],[16,10],[7,10],\n",
    "                 [8,6],[6,10],[4,8],\n",
    "                 [16,12],[11,8],[10,3],[12,12],\n",
    "                 [12,12],[4,1],[10,10],\n",
    "                 [6,7],[6,8],[8,3],\n",
    "                 [9,8],[11,10],[6,6],\n",
    "                 [6,12],[12, 15],[11,6],\n",
    "                 [10,10],[3,6],[4,6],\n",
    "                 [4,2]]\n",
    "len(LEARNING_TIME)"
   ]
  },
  {
   "cell_type": "code",
   "execution_count": 84,
   "metadata": {
    "collapsed": false
   },
   "outputs": [
    {
     "data": {
      "text/plain": [
       "2653"
      ]
     },
     "execution_count": 84,
     "metadata": {},
     "output_type": "execute_result"
    }
   ],
   "source": [
    "total_learning_time = 0\n",
    "for course in LEARNING_TIME:\n",
    "    total_learning_time += course[0] * course[1]\n",
    "total_learning_time"
   ]
  },
  {
   "cell_type": "code",
   "execution_count": 88,
   "metadata": {
    "collapsed": false
   },
   "outputs": [
    {
     "name": "stdout",
     "output_type": "stream",
     "text": [
      "Cube root of 1000 is 10\n"
     ]
    }
   ],
   "source": [
    "# Find the cube root of a perfect cube\n",
    "x = 1000\n",
    "\n",
    "answer = 0\n",
    "\n",
    "while answer ** 3 < abs(x):\n",
    "    answer += 1\n",
    "if answer ** 3 != abs(x):\n",
    "    print x, 'is not a perfect cube'\n",
    "else:\n",
    "    if x < 0:\n",
    "        answer = -answer\n",
    "    print 'Cube root of', x, 'is', answer"
   ]
  },
  {
   "cell_type": "code",
   "execution_count": 87,
   "metadata": {
    "collapsed": false
   },
   "outputs": [
    {
     "name": "stdout",
     "output_type": "stream",
     "text": [
      "999 is not a perfect cube\n"
     ]
    }
   ],
   "source": [
    "# Find the cube root of a perfect cube\n",
    "x = 999\n",
    "\n",
    "answer = 0\n",
    "\n",
    "while answer ** 3 < abs(x):\n",
    "    answer += 1\n",
    "if answer ** 3 != abs(x):\n",
    "    print x, 'is not a perfect cube'\n",
    "else:\n",
    "    if x < 0:\n",
    "        answer = -answer\n",
    "    print 'Cube root of', x, 'is', answer"
   ]
  },
  {
   "cell_type": "code",
   "execution_count": 93,
   "metadata": {
    "collapsed": false
   },
   "outputs": [
    {
     "name": "stdout",
     "output_type": "stream",
     "text": [
      "8.96501517296 seconds\n",
      "100000000\n"
     ]
    }
   ],
   "source": [
    "# Faster code execution\n",
    "import time\n",
    "\n",
    "max = 100000000\n",
    "i = 0\n",
    "start_time = time.time()\n",
    "\n",
    "while i < max:\n",
    "    i += 1\n",
    "print(\"%s seconds\" % (time.time() - start_time))\n",
    "print i"
   ]
  },
  {
   "cell_type": "code",
   "execution_count": 94,
   "metadata": {
    "collapsed": false
   },
   "outputs": [
    {
     "data": {
      "text/plain": [
       "[0, 1, 2, 3, 4, 5, 6, 7, 8, 9]"
      ]
     },
     "execution_count": 94,
     "metadata": {},
     "output_type": "execute_result"
    }
   ],
   "source": [
    "range(10)"
   ]
  },
  {
   "cell_type": "code",
   "execution_count": 95,
   "metadata": {
    "collapsed": false
   },
   "outputs": [
    {
     "data": {
      "text/plain": [
       "xrange(10)"
      ]
     },
     "execution_count": 95,
     "metadata": {},
     "output_type": "execute_result"
    }
   ],
   "source": [
    "xrange(10)"
   ]
  },
  {
   "cell_type": "code",
   "execution_count": 97,
   "metadata": {
    "collapsed": false
   },
   "outputs": [
    {
     "name": "stdout",
     "output_type": "stream",
     "text": [
      "# 0\n",
      "# 1\n",
      "# 2\n",
      "# 3\n",
      "# 4\n",
      "# 5\n",
      "# 6\n",
      "# 7\n",
      "# 8\n",
      "# 9\n"
     ]
    }
   ],
   "source": [
    "for i in xrange(10):\n",
    "    print '#', i"
   ]
  },
  {
   "cell_type": "code",
   "execution_count": 103,
   "metadata": {
    "collapsed": false
   },
   "outputs": [
    {
     "data": {
      "text/plain": [
       "21"
      ]
     },
     "execution_count": 103,
     "metadata": {},
     "output_type": "execute_result"
    }
   ],
   "source": [
    "num_str = \"1.23,2.4,3.123\"\n",
    "num_sum = 0\n",
    "for num in num_str:\n",
    "    if num.isdigit():\n",
    "        num_sum += int(num)\n",
    "num_sum"
   ]
  },
  {
   "cell_type": "code",
   "execution_count": 124,
   "metadata": {
    "collapsed": false,
    "scrolled": true
   },
   "outputs": [
    {
     "name": "stdout",
     "output_type": "stream",
     "text": [
      "num_guesses: 49990\n",
      "answer: 4.999\n"
     ]
    }
   ],
   "source": [
    "# Approximating the squre root using exhustive enumberation\n",
    "\n",
    "target = 25\n",
    "epsilon = 0.01\n",
    "step = epsilon ** 2\n",
    "\n",
    "num_guesses = 0\n",
    "answer = 0\n",
    "\n",
    "while abs(answer ** 2 - target) >= epsilon:\n",
    "#while abs(answer ** 2 - target) >= epsilon and answer < target:\n",
    "    answer += step\n",
    "    num_guesses += 1\n",
    "print \"num_guesses:\", num_guesses\n",
    "print \"answer:\", answer"
   ]
  },
  {
   "cell_type": "code",
   "execution_count": 125,
   "metadata": {
    "collapsed": false
   },
   "outputs": [
    {
     "name": "stdout",
     "output_type": "stream",
     "text": [
      "num_guesses: 4899\n",
      "answer: 0.4899\n"
     ]
    }
   ],
   "source": [
    "# Approximating the squre root using exhustive enumberation\n",
    "\n",
    "target = 0.25\n",
    "epsilon = 0.01\n",
    "step = epsilon ** 2\n",
    "\n",
    "num_guesses = 0\n",
    "answer = 0\n",
    "\n",
    "while abs(answer ** 2 - target) >= epsilon:\n",
    "#while abs(answer ** 2 - target) >= epsilon and answer < target:\n",
    "    answer += step\n",
    "    num_guesses += 1\n",
    "print \"num_guesses:\", num_guesses\n",
    "print \"answer:\", answer"
   ]
  },
  {
   "cell_type": "code",
   "execution_count": 134,
   "metadata": {
    "collapsed": false
   },
   "outputs": [
    {
     "name": "stdout",
     "output_type": "stream",
     "text": [
      "high: 25.0 low: 0.0 pinter: 12.5\n",
      "high: 12.5 low: 0.0 pinter: 6.25\n",
      "high: 6.25 low: 0.0 pinter: 3.125\n",
      "high: 6.25 low: 3.125 pinter: 4.6875\n",
      "high: 6.25 low: 4.6875 pinter: 5.46875\n",
      "high: 5.46875 low: 4.6875 pinter: 5.078125\n",
      "high: 5.078125 low: 4.6875 pinter: 4.8828125\n",
      "high: 5.078125 low: 4.8828125 pinter: 4.98046875\n",
      "high: 5.078125 low: 4.98046875 pinter: 5.029296875\n",
      "high: 5.029296875 low: 4.98046875 pinter: 5.0048828125\n",
      "high: 5.0048828125 low: 4.98046875 pinter: 4.99267578125\n",
      "high: 5.0048828125 low: 4.99267578125 pinter: 4.99877929688\n",
      "high: 5.0048828125 low: 4.99877929688 pinter: 5.00183105469\n",
      "13\n",
      "5.00030517578\n"
     ]
    }
   ],
   "source": [
    "# Find the square root using bisection search\n",
    "target = 25.0\n",
    "epsilion = 0.01\n",
    "\n",
    "# DO NOT need step\n",
    "# Find the middle point and set it to pointer\n",
    "pointer = target / 2\n",
    "high_point = 25.0\n",
    "low_point = 0.0\n",
    "num_guesses = 0\n",
    "while abs(pointer ** 2 - target) >= epsilon:\n",
    "    num_guesses += 1\n",
    "    print 'high:', high_point, 'low:', low_point, 'pinter:', pointer\n",
    "    \n",
    "    if pointer ** 2 > target:\n",
    "        high_point = pointer\n",
    "    elif pointer ** 2 < target:\n",
    "        low_point = pointer\n",
    "    pointer = (high_point + low_point) / 2\n",
    "\n",
    "print num_guesses\n",
    "print pointer"
   ]
  },
  {
   "cell_type": "code",
   "execution_count": 135,
   "metadata": {
    "collapsed": false
   },
   "outputs": [
    {
     "name": "stdout",
     "output_type": "stream",
     "text": [
      "high: 100000000.0 low: 0.0 pinter: 50000000.0\n",
      "high: 50000000.0 low: 0.0 pinter: 25000000.0\n",
      "high: 25000000.0 low: 0.0 pinter: 12500000.0\n",
      "high: 12500000.0 low: 0.0 pinter: 6250000.0\n",
      "high: 6250000.0 low: 0.0 pinter: 3125000.0\n",
      "high: 3125000.0 low: 0.0 pinter: 1562500.0\n",
      "high: 1562500.0 low: 0.0 pinter: 781250.0\n",
      "high: 781250.0 low: 0.0 pinter: 390625.0\n",
      "high: 390625.0 low: 0.0 pinter: 195312.5\n",
      "high: 195312.5 low: 0.0 pinter: 97656.25\n",
      "high: 97656.25 low: 0.0 pinter: 48828.125\n",
      "high: 48828.125 low: 0.0 pinter: 24414.0625\n",
      "high: 24414.0625 low: 0.0 pinter: 12207.03125\n",
      "high: 12207.03125 low: 0.0 pinter: 6103.515625\n",
      "high: 12207.03125 low: 6103.515625 pinter: 9155.2734375\n",
      "high: 12207.03125 low: 9155.2734375 pinter: 10681.1523438\n",
      "high: 10681.1523438 low: 9155.2734375 pinter: 9918.21289062\n",
      "high: 10681.1523438 low: 9918.21289062 pinter: 10299.6826172\n",
      "high: 10299.6826172 low: 9918.21289062 pinter: 10108.9477539\n",
      "high: 10108.9477539 low: 9918.21289062 pinter: 10013.5803223\n",
      "high: 10013.5803223 low: 9918.21289062 pinter: 9965.89660645\n",
      "high: 10013.5803223 low: 9965.89660645 pinter: 9989.73846436\n",
      "high: 10013.5803223 low: 9989.73846436 pinter: 10001.6593933\n",
      "high: 10001.6593933 low: 9989.73846436 pinter: 9995.69892883\n",
      "high: 10001.6593933 low: 9995.69892883 pinter: 9998.67916107\n",
      "high: 10001.6593933 low: 9998.67916107 pinter: 10000.1692772\n",
      "high: 10000.1692772 low: 9998.67916107 pinter: 9999.42421913\n",
      "high: 10000.1692772 low: 9999.42421913 pinter: 9999.79674816\n",
      "high: 10000.1692772 low: 9999.79674816 pinter: 9999.98301268\n",
      "high: 10000.1692772 low: 9999.98301268 pinter: 10000.0761449\n",
      "high: 10000.0761449 low: 9999.98301268 pinter: 10000.0295788\n",
      "high: 10000.0295788 low: 9999.98301268 pinter: 10000.0062957\n",
      "high: 10000.0062957 low: 9999.98301268 pinter: 9999.99465421\n",
      "high: 10000.0062957 low: 9999.99465421 pinter: 10000.000475\n",
      "high: 10000.000475 low: 9999.99465421 pinter: 9999.99756459\n",
      "high: 10000.000475 low: 9999.99756459 pinter: 9999.99901978\n",
      "high: 10000.000475 low: 9999.99901978 pinter: 9999.99974738\n",
      "high: 10000.000475 low: 9999.99974738 pinter: 10000.0001112\n",
      "high: 10000.0001112 low: 9999.99974738 pinter: 9999.99992928\n",
      "high: 10000.0001112 low: 9999.99992928 pinter: 10000.0000202\n",
      "high: 10000.0000202 low: 9999.99992928 pinter: 9999.99997475\n",
      "high: 10000.0000202 low: 9999.99997475 pinter: 9999.99999749\n",
      "high: 10000.0000202 low: 9999.99999749 pinter: 10000.0000089\n",
      "high: 10000.0000089 low: 9999.99999749 pinter: 10000.0000032\n",
      "44\n",
      "10000.0000003\n"
     ]
    }
   ],
   "source": [
    "# Find the square root using bisection search\n",
    "target = 100000000.0\n",
    "epsilion = 0.01\n",
    "\n",
    "# DO NOT need step\n",
    "# Find the middle point and set it to pointer\n",
    "pointer = target / 2\n",
    "high_point = target\n",
    "low_point = 0.0\n",
    "num_guesses = 0\n",
    "while abs(pointer ** 2 - target) >= epsilon:\n",
    "    num_guesses += 1\n",
    "    print 'high:', high_point, 'low:', low_point, 'pinter:', pointer\n",
    "    \n",
    "    if pointer ** 2 > target:\n",
    "        high_point = pointer\n",
    "    elif pointer ** 2 < target:\n",
    "        low_point = pointer\n",
    "    pointer = (high_point + low_point) / 2\n",
    "\n",
    "print num_guesses\n",
    "print pointer"
   ]
  },
  {
   "cell_type": "code",
   "execution_count": 138,
   "metadata": {
    "collapsed": false
   },
   "outputs": [
    {
     "name": "stdout",
     "output_type": "stream",
     "text": [
      "44\n",
      "-10000.0000003\n"
     ]
    }
   ],
   "source": [
    "# Find the square root using bisection search\n",
    "target = -100000000.0\n",
    "epsilion = 0.01\n",
    "\n",
    "isNegative = False\n",
    "\n",
    "if target < 0:\n",
    "    isNegative = !isNegative\n",
    "target = abs(target)\n",
    "\n",
    "# DO NOT need step\n",
    "# Find the middle point and set it to pointer\n",
    "pointer = target / 2\n",
    "high_point = target\n",
    "low_point = 0.0\n",
    "num_guesses = 0\n",
    "while abs(pointer ** 2 - target) >= epsilon:\n",
    "    num_guesses += 1    \n",
    "    if pointer ** 2 > target:\n",
    "        high_point = pointer\n",
    "    elif pointer ** 2 < target:\n",
    "        low_point = pointer\n",
    "    pointer = (high_point + low_point) / 2\n",
    "\n",
    "if isNegative:\n",
    "    pointer *= -1\n",
    "    \n",
    "print num_guesses\n",
    "print pointer"
   ]
  },
  {
   "cell_type": "code",
   "execution_count": 142,
   "metadata": {
    "collapsed": false
   },
   "outputs": [
    {
     "name": "stdout",
     "output_type": "stream",
     "text": [
      "False\n",
      "1.11022302463e-16\n",
      "1.0\n"
     ]
    }
   ],
   "source": [
    "# Floating Point Usage\n",
    "sum = 0\n",
    "for i in xrange(10):    \n",
    "    sum += 0.1\n",
    "print sum == 1.0\n",
    "print 1.0 - sum\n",
    "print sum"
   ]
  },
  {
   "cell_type": "code",
   "execution_count": 144,
   "metadata": {
    "collapsed": false
   },
   "outputs": [
    {
     "name": "stdout",
     "output_type": "stream",
     "text": [
      "7.25\n",
      "5.34913793103\n",
      "5.01139410653\n",
      "5.00001295305\n"
     ]
    }
   ],
   "source": [
    "# Newtone-Raphson for square root\n",
    "epsilon = 0.01\n",
    "target = 25\n",
    "guess = target / 2.0\n",
    "while abs(guess * guess - target) >= epsilon:\n",
    "    guess = guess - (((guess**2)-target)/(2*guess))\n",
    "    print guess"
   ]
  },
  {
   "cell_type": "code",
   "execution_count": 157,
   "metadata": {
    "collapsed": false,
    "scrolled": true
   },
   "outputs": [
    {
     "data": {
      "text/plain": [
       "4.41"
      ]
     },
     "execution_count": 157,
     "metadata": {},
     "output_type": "execute_result"
    }
   ],
   "source": [
    "2.1**2.0"
   ]
  },
  {
   "cell_type": "code",
   "execution_count": 158,
   "metadata": {
    "collapsed": false
   },
   "outputs": [
    {
     "name": "stdout",
     "output_type": "stream",
     "text": [
      "2\n",
      "2.0\n"
     ]
    }
   ],
   "source": [
    "val = 2.4\n",
    "print int(val)\n",
    "print round(val)"
   ]
  },
  {
   "cell_type": "code",
   "execution_count": 171,
   "metadata": {
    "collapsed": false
   },
   "outputs": [
    {
     "data": {
      "text/plain": [
       "False"
      ]
     },
     "execution_count": 171,
     "metadata": {},
     "output_type": "execute_result"
    }
   ],
   "source": [
    "type(\"a\") == \n"
   ]
  },
  {
   "cell_type": "code",
   "execution_count": 6,
   "metadata": {
    "collapsed": false
   },
   "outputs": [
    {
     "name": "stdout",
     "output_type": "stream",
     "text": [
      "result:  0\n",
      "result:  00\n",
      "result:  100\n",
      "result:  0100\n",
      "result:  00100\n",
      "result:  100100\n",
      "result:  1100100\n",
      "result:  11100100\n",
      "result:  011100100\n",
      "result:  0011100100\n",
      "result:  10011100100\n",
      "final result:  10011100100\n",
      "result:  0\n",
      "result:  10\n",
      "result:  010\n",
      "result:  1010\n",
      "10  -> 1010\n",
      "result:  1\n",
      "result:  11\n",
      "result:  111\n",
      "result:  1111\n",
      "15  -> 1111\n",
      "result:  1\n",
      "result:  11\n",
      "result:  111\n",
      "result:  1111\n",
      "result:  11111\n",
      "result:  011111\n",
      "result:  1011111\n",
      "result:  11011111\n",
      "result:  011011111\n",
      "result:  1011011111\n",
      "result:  01011011111\n",
      "result:  001011011111\n",
      "result:  1001011011111\n",
      "result:  01001011011111\n",
      "result:  101001011011111\n",
      "result:  1101001011011111\n",
      "result:  01101001011011111\n",
      "result:  001101001011011111\n",
      "result:  0001101001011011111\n",
      "result:  00001101001011011111\n",
      "result:  100001101001011011111\n",
      "result:  1100001101001011011111\n",
      "result:  11100001101001011011111\n",
      "result:  111100001101001011011111\n",
      "result:  0111100001101001011011111\n",
      "result:  00111100001101001011011111\n",
      "result:  100111100001101001011011111\n",
      "result:  1100111100001101001011011111\n",
      "result:  01100111100001101001011011111\n",
      "result:  001100111100001101001011011111\n",
      "result:  1001100111100001101001011011111\n",
      "1290851039  -> 1001100111100001101001011011111\n"
     ]
    }
   ],
   "source": [
    "# Convert positive integer into binary\n",
    "num = 1252\n",
    "\n",
    "result = ''\n",
    "while num > 0:\n",
    "    result = str(num % 2) + result\n",
    "    num /= 2\n",
    "    print \"result: \", result\n",
    "print \"final result: \", result\n",
    "\n",
    "\n",
    "def binary_converter(num):\n",
    "    target = num\n",
    "    \n",
    "    result = ''\n",
    "    \n",
    "    while num > 0:\n",
    "        result = str(num % 2) + result\n",
    "        num /= 2\n",
    "        print \"result: \", result\n",
    "    print target, \" ->\", result\n",
    "binary_converter(10)\n",
    "binary_converter(15)\n",
    "binary_converter(1290851039)"
   ]
  },
  {
   "cell_type": "code",
   "execution_count": 26,
   "metadata": {
    "collapsed": false
   },
   "outputs": [
    {
     "name": "stdout",
     "output_type": "stream",
     "text": [
      "p: 51 2**p: 2251799813685248 ((2**p)*num): 1.15292150461e+15 ((2**p)*num)%1: 0.0\n",
      "0 Binary Representation .100000110001001001101110100101111000110101001111111\n"
     ]
    }
   ],
   "source": [
    "num = 0.512\n",
    "p = 0\n",
    "while ((2**p)*num)%1 != 0:\n",
    "  p += 1\n",
    "print \"p:\", p, \"2**p:\", 2**p, '((2**p)*num):', ((2**p)*num), '((2**p)*num)%1:',((2**p)*num)%1 \n",
    "\n",
    "num = int(num*(2**p))\n",
    "result = ''\n",
    "if num == 0:\n",
    "  result = '0'\n",
    "while num > 0:\n",
    "  result = str(num%2) + result\n",
    "  num /= 2\n",
    "for i in range(p - len(result)):\n",
    "  result = '0' + result\n",
    "result = result[0:-p] + '.' + result[-p:]\n",
    "print str(num), 'Binary Representation', result"
   ]
  },
  {
   "cell_type": "code",
   "execution_count": 4,
   "metadata": {
    "collapsed": false
   },
   "outputs": [
    {
     "name": "stdout",
     "output_type": "stream",
     "text": [
      "Help on function function_with_docstring in module __main__:\n",
      "\n",
      "function_with_docstring()\n",
      "    function_with_docstring() -> None\n",
      "    \n",
      "    This is a doc string sample\n",
      "\n"
     ]
    }
   ],
   "source": [
    "def function_with_docstring():\n",
    "    \"\"\"\n",
    "    function_with_docstring() -> None\n",
    "    \n",
    "    This is a doc string sample\n",
    "    \"\"\"\n",
    "    return None\n",
    "\n",
    "help(function_with_docstring)"
   ]
  },
  {
   "cell_type": "code",
   "execution_count": 2,
   "metadata": {
    "collapsed": false
   },
   "outputs": [
    {
     "name": "stdout",
     "output_type": "stream",
     "text": [
      "Help on built-in function max in module __builtin__:\n",
      "\n",
      "max(...)\n",
      "    max(iterable[, key=func]) -> value\n",
      "    max(a, b, c, ...[, key=func]) -> value\n",
      "    \n",
      "    With a single iterable argument, return its largest item.\n",
      "    With two or more arguments, return the largest argument.\n",
      "\n"
     ]
    }
   ],
   "source": [
    "help(max)"
   ]
  },
  {
   "cell_type": "code",
   "execution_count": null,
   "metadata": {
    "collapsed": true
   },
   "outputs": [],
   "source": []
  }
 ],
 "metadata": {
  "kernelspec": {
   "display_name": "Python 2",
   "language": "python",
   "name": "python2"
  },
  "language_info": {
   "codemirror_mode": {
    "name": "ipython",
    "version": 2
   },
   "file_extension": ".py",
   "mimetype": "text/x-python",
   "name": "python",
   "nbconvert_exporter": "python",
   "pygments_lexer": "ipython2",
   "version": "2.7.6"
  }
 },
 "nbformat": 4,
 "nbformat_minor": 0
}
