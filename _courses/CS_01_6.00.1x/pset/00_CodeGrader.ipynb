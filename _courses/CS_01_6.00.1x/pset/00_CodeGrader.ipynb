{
 "cells": [
  {
   "cell_type": "code",
   "execution_count": 5,
   "metadata": {
    "collapsed": false
   },
   "outputs": [
    {
     "data": {
      "text/plain": [
       "'22348.2459'"
      ]
     },
     "execution_count": 5,
     "metadata": {},
     "output_type": "execute_result"
    }
   ],
   "source": [
    "# https://courses.edx.org/courses/course-v1:MITx+6.00.1x_8+1T2016/courseware/Week_2/2e11590fc59d4bc99f4ad988747eec51/\n",
    "\n",
    "from math import tan\n",
    "from math import pi\n",
    "\n",
    "def polysum(n, s):\n",
    "    \"\"\"Sum the area and square of the perimeter of the\n",
    "    \n",
    "    Args:\n",
    "        n (int): number of sides\n",
    "        s (int): each side length\n",
    "        \n",
    "    Returns:\n",
    "        the sum  of area and square of the perimeter of regular polygon\n",
    "    \"\"\"\n",
    "    area = (0.25 * n * (s ** 2))/(tan(pi / n))\n",
    "    square_perimeter = (n * s) ** 2\n",
    "    \n",
    "    return float(\"%.4f\" % (area + square_perimeter))\n",
    "\n",
    "polysum(12, 12)"
   ]
  },
  {
   "cell_type": "code",
   "execution_count": null,
   "metadata": {
    "collapsed": true
   },
   "outputs": [],
   "source": []
  }
 ],
 "metadata": {
  "kernelspec": {
   "display_name": "Python 2",
   "language": "python",
   "name": "python2"
  },
  "language_info": {
   "codemirror_mode": {
    "name": "ipython",
    "version": 2
   },
   "file_extension": ".py",
   "mimetype": "text/x-python",
   "name": "python",
   "nbconvert_exporter": "python",
   "pygments_lexer": "ipython2",
   "version": "2.7.6"
  }
 },
 "nbformat": 4,
 "nbformat_minor": 0
}
